{
  "nbformat": 4,
  "nbformat_minor": 0,
  "metadata": {
    "colab": {
      "provenance": []
    },
    "kernelspec": {
      "name": "python3",
      "display_name": "Python 3"
    },
    "language_info": {
      "name": "python"
    }
  },
  "cells": [
    {
      "cell_type": "markdown",
      "source": [
        "**Assignment-7**\n"
      ],
      "metadata": {
        "id": "zRn5-Zri9hZh"
      }
    },
    {
      "cell_type": "markdown",
      "source": [
        "Q.1. Create two int type variables, apply addition, subtraction, division and multiplications\n",
        "and store the results in variables. Then print the data in the following format by calling the\n",
        "variables:\n",
        "\n",
        "First variable is __ & second variable is __.\n",
        "Addition: __ + __ = __\n",
        "Subtraction: __ - __ = __\n",
        "Multiplication: __ * __ = __\n",
        "Division: __ / __ = __"
      ],
      "metadata": {
        "id": "ZI6nA4tp9oSi"
      }
    },
    {
      "cell_type": "code",
      "source": [
        "# Create two int variables\n",
        "num1 = 20\n",
        "num2 = 5\n",
        "\n",
        "# Perform operations\n",
        "addition = num1 + num2\n",
        "subtraction = num1 - num2\n",
        "multiplication = num1 * num2\n",
        "division = num1 / num2\n",
        "\n",
        "# Print results in formatted output\n",
        "print(f\"First variable is {num1} & second variable is {num2}.\")\n",
        "print(f\"Addition: {num1} + {num2} = {addition}\")\n",
        "print(f\"Subtraction: {num1} - {num2} = {subtraction}\")\n",
        "print(f\"Multiplication: {num1} * {num2} = {multiplication}\")\n",
        "print(f\"Division: {num1} / {num2} = {division}\")\n"
      ],
      "metadata": {
        "colab": {
          "base_uri": "https://localhost:8080/"
        },
        "id": "3z3oTXTY9s_f",
        "outputId": "b0f35b47-6fb6-4fc7-b0e8-3bd5d88d43e4"
      },
      "execution_count": 1,
      "outputs": [
        {
          "output_type": "stream",
          "name": "stdout",
          "text": [
            "First variable is 20 & second variable is 5.\n",
            "Addition: 20 + 5 = 25\n",
            "Subtraction: 20 - 5 = 15\n",
            "Multiplication: 20 * 5 = 100\n",
            "Division: 20 / 5 = 4.0\n"
          ]
        }
      ]
    },
    {
      "cell_type": "markdown",
      "source": [
        "Q.2. What is the difference between the following operators:\n",
        "(i) ‘/’ & ‘//’\n",
        "(ii) ‘**’ & ‘^’"
      ],
      "metadata": {
        "id": "lDIfaIjF9q5W"
      }
    },
    {
      "cell_type": "markdown",
      "source": [
        "ANS2\n",
        "\n",
        "(i) / vs //:\n",
        "\n",
        "* / is the division operator that returns a float result (even if dividing two integers).\n",
        "* // is the floor division operator that returns the integer quotient without the remainder.\n",
        "\n",
        "(ii) ** vs ^:\n",
        "\n",
        "* ** is the exponentiation operator used to raise a number to a power.\n",
        "* ^ is not the exponentiation operator in Python; it is the bitwise XOR operator."
      ],
      "metadata": {
        "id": "jdueeOXe98dt"
      }
    },
    {
      "cell_type": "markdown",
      "source": [
        "Q.3. List the logical operators."
      ],
      "metadata": {
        "id": "XU92tJeV-OXN"
      }
    },
    {
      "cell_type": "markdown",
      "source": [
        "ANS3  Logical operators in Python include:\n",
        "\n",
        "and: Returns True if both operands are True.\n",
        "or: Returns True if at least one operand is True.\n",
        "not: Returns the opposite boolean value of the operand."
      ],
      "metadata": {
        "id": "DbNkb8xP-RTE"
      }
    },
    {
      "cell_type": "markdown",
      "source": [
        "Q.4. Explain right shift operator and left shift operator with examples."
      ],
      "metadata": {
        "id": "90T9lQc8-V3a"
      }
    },
    {
      "cell_type": "markdown",
      "source": [
        "ANS4\n",
        "* Right Shift (>>): Shifts the bits of a number to the right by a specified number of positions, filling with the sign bit (for signed integers) or zero bits (for unsigned integers).\n",
        "\n",
        "Example:"
      ],
      "metadata": {
        "id": "GEuTS0F6-ZVf"
      }
    },
    {
      "cell_type": "code",
      "source": [
        "x = 8  # Binary: 1000\n",
        "result = x >> 2  # Binary: 10 (Decimal: 2)\n",
        "print(result)\n"
      ],
      "metadata": {
        "colab": {
          "base_uri": "https://localhost:8080/"
        },
        "id": "rsOWNwu5-gGD",
        "outputId": "cb090667-a198-4945-bf2d-bfd4b4b953f3"
      },
      "execution_count": 6,
      "outputs": [
        {
          "output_type": "stream",
          "name": "stdout",
          "text": [
            "2\n"
          ]
        }
      ]
    },
    {
      "cell_type": "markdown",
      "source": [
        "* Left Shift (<<): Shifts the bits of a number to the left by a specified number of positions, filling with zero bits.\n",
        "\n",
        "Example:"
      ],
      "metadata": {
        "id": "7suF25P5-huz"
      }
    },
    {
      "cell_type": "code",
      "source": [
        "x = 2  # Binary: 10\n",
        "result = x << 3  # Binary: 10000 (Decimal: 16)\n",
        "print(result)\n"
      ],
      "metadata": {
        "colab": {
          "base_uri": "https://localhost:8080/"
        },
        "id": "PHk0uTuj-mJ6",
        "outputId": "35ba6b1d-781a-44e1-8094-64e4524d327d"
      },
      "execution_count": 5,
      "outputs": [
        {
          "output_type": "stream",
          "name": "stdout",
          "text": [
            "16\n"
          ]
        }
      ]
    },
    {
      "cell_type": "markdown",
      "source": [
        "Q.5. Create a list containing int type data of length 15. Then write a code to check if 10 is\n",
        "present in the list or not."
      ],
      "metadata": {
        "id": "qHe6sWWr-q8t"
      }
    },
    {
      "cell_type": "code",
      "source": [
        "# Create a list of integers\n",
        "my_list = [1, 3, 5, 7, 9, 10, 12, 14, 16, 18, 20, 22, 24, 26, 28]\n",
        "\n",
        "# Check if 10 is present in the list\n",
        "if 10 in my_list:\n",
        "    print(\"10 is present in the list.\")\n",
        "else:\n",
        "    print(\"10 is not present in the list.\")\n"
      ],
      "metadata": {
        "colab": {
          "base_uri": "https://localhost:8080/"
        },
        "id": "TGk-tq4w-tiJ",
        "outputId": "e51c23e6-bd23-4ac6-b0eb-8cb43876155a"
      },
      "execution_count": 4,
      "outputs": [
        {
          "output_type": "stream",
          "name": "stdout",
          "text": [
            "10 is present in the list.\n"
          ]
        }
      ]
    }
  ]
}